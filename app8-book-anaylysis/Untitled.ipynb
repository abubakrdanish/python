{
 "cells": [
  {
   "cell_type": "code",
   "execution_count": 1,
   "id": "352b1987-b36e-4aca-963e-a831cc686be5",
   "metadata": {},
   "outputs": [],
   "source": [
    "with open(\"miracle_in_the_andes.txt\", \"r\", encoding=\"UTF-8\") as file:\n",
    "    book = file.read()"
   ]
  },
  {
   "cell_type": "code",
   "execution_count": 2,
   "id": "2e703b06-b236-4bbf-9fdb-7ab45a103d74",
   "metadata": {},
   "outputs": [
    {
     "data": {
      "text/plain": [
       "['chapter', 'before', 'it', 'was', 'friday']"
      ]
     },
     "execution_count": 2,
     "metadata": {},
     "output_type": "execute_result"
    }
   ],
   "source": [
    "import re \n",
    "pattern = re.compile(\"[a-zA-Z]+\")\n",
    "findings = re.findall(pattern, book.lower())\n",
    "findings[:5]"
   ]
  },
  {
   "cell_type": "code",
   "execution_count": 3,
   "id": "833ce310-15dc-4445-9ecc-f8d833aba375",
   "metadata": {},
   "outputs": [],
   "source": [
    "d = {}\n",
    "for word in findings:\n",
    "    if word in d.keys():\n",
    "        d[word] = d[word] + 1\n",
    "    else:\n",
    "        d[word] = 1"
   ]
  },
  {
   "cell_type": "code",
   "execution_count": 4,
   "id": "749d6a84-603e-4c1b-b6b8-57d6e1d38c2a",
   "metadata": {},
   "outputs": [
    {
     "data": {
      "text/plain": [
       "[(5346, 'the'), (2795, 'and'), (2729, 'i'), (2400, 'to'), (2060, 'of')]"
      ]
     },
     "execution_count": 4,
     "metadata": {},
     "output_type": "execute_result"
    }
   ],
   "source": [
    "d_list = [(value , key) for (key, value) in d.items()]\n",
    "d_list = sorted(d_list, reverse=True)\n",
    "d_list[:5]"
   ]
  },
  {
   "cell_type": "code",
   "execution_count": 5,
   "id": "2900687f-d42a-4316-997f-2a05a0ba471f",
   "metadata": {},
   "outputs": [
    {
     "name": "stdout",
     "output_type": "stream",
     "text": [
      "Requirement already satisfied: nltk in c:\\users\\abuba\\appdata\\local\\programs\\python\\python312\\lib\\site-packages (3.8.1)\n",
      "Requirement already satisfied: click in c:\\users\\abuba\\appdata\\local\\programs\\python\\python312\\lib\\site-packages (from nltk) (8.1.7)\n",
      "Requirement already satisfied: joblib in c:\\users\\abuba\\appdata\\local\\programs\\python\\python312\\lib\\site-packages (from nltk) (1.4.0)\n",
      "Requirement already satisfied: regex>=2021.8.3 in c:\\users\\abuba\\appdata\\local\\programs\\python\\python312\\lib\\site-packages (from nltk) (2024.5.15)\n",
      "Requirement already satisfied: tqdm in c:\\users\\abuba\\appdata\\local\\programs\\python\\python312\\lib\\site-packages (from nltk) (4.66.4)\n",
      "Requirement already satisfied: colorama in c:\\users\\abuba\\appdata\\local\\programs\\python\\python312\\lib\\site-packages (from click->nltk) (0.4.6)\n",
      "Note: you may need to restart the kernel to use updated packages.\n"
     ]
    }
   ],
   "source": [
    "pip install --timeout 60 nltk\n"
   ]
  },
  {
   "cell_type": "code",
   "execution_count": 6,
   "id": "487bf518-519f-4c70-a3c7-14a532f86dc0",
   "metadata": {},
   "outputs": [],
   "source": [
    "import nltk\n",
    "\n",
    "from nltk.corpus import  stopwords\n",
    "english_stopwords = stopwords.words(\"english\")"
   ]
  },
  {
   "cell_type": "code",
   "execution_count": 7,
   "id": "ebcc4b03-3954-4578-a1a8-16c20ad8f672",
   "metadata": {},
   "outputs": [],
   "source": [
    "filtered_words = []\n",
    "for count, word in d_list:\n",
    "    if word not in english_stopwords:\n",
    "        filtered_words.append((word, count))"
   ]
  },
  {
   "cell_type": "code",
   "execution_count": 8,
   "id": "e5707791-ed9f-4f57-8150-97bc519b5d99",
   "metadata": {},
   "outputs": [
    {
     "data": {
      "text/plain": [
       "[('would', 575),\n",
       " ('us', 519),\n",
       " ('said', 292),\n",
       " ('roberto', 284),\n",
       " ('could', 252),\n",
       " ('one', 249),\n",
       " ('snow', 227),\n",
       " ('mountain', 183),\n",
       " ('time', 182),\n",
       " ('like', 165)]"
      ]
     },
     "execution_count": 8,
     "metadata": {},
     "output_type": "execute_result"
    }
   ],
   "source": [
    "filtered_words[:10]"
   ]
  },
  {
   "cell_type": "code",
   "execution_count": 9,
   "id": "f0657373-d1ca-443f-b8b7-26893961cd0a",
   "metadata": {},
   "outputs": [],
   "source": [
    "from nltk.sentiment import SentimentIntensityAnalyzer"
   ]
  },
  {
   "cell_type": "code",
   "execution_count": 10,
   "id": "397ec996-7f4a-40de-8da4-e98205c0c8ce",
   "metadata": {},
   "outputs": [],
   "source": [
    "analyzer = SentimentIntensityAnalyzer"
   ]
  },
  {
   "cell_type": "code",
   "execution_count": 11,
   "id": "8d30b143-689c-4512-ba0f-505d47fd591a",
   "metadata": {},
   "outputs": [
    {
     "name": "stdout",
     "output_type": "stream",
     "text": [
      "{'neg': 0.504, 'neu': 0.496, 'pos': 0.0, 'compound': -0.9041}\n"
     ]
    }
   ],
   "source": [
    "from vaderSentiment.vaderSentiment import SentimentIntensityAnalyzer\n",
    "\n",
    "# Initialize the analyzer\n",
    "analyzer = SentimentIntensityAnalyzer()\n",
    "\n",
    "# Analyze the sentiment of the text\n",
    "text = \"Hey, look how bad the trees are. I hate them. I really hate them.\"\n",
    "scores = analyzer.polarity_scores(text)\n",
    "\n",
    "# Print the results\n",
    "print(scores)\n"
   ]
  },
  {
   "cell_type": "code",
   "execution_count": 12,
   "id": "03fadc80-0d5d-45a0-a934-f87b9c7fb054",
   "metadata": {},
   "outputs": [
    {
     "name": "stdout",
     "output_type": "stream",
     "text": [
      "It is a negative text\n"
     ]
    }
   ],
   "source": [
    "if scores[\"pos\"] > scores[\"neg\"]:\n",
    "    print(\"It is a positive text\")\n",
    "else:\n",
    "    print(\"It is a negative text\")"
   ]
  },
  {
   "cell_type": "code",
   "execution_count": 13,
   "id": "e6453500-93af-4b88-b125-3a3254ae8ff0",
   "metadata": {},
   "outputs": [
    {
     "name": "stderr",
     "output_type": "stream",
     "text": [
      "[nltk_data] Downloading package punkt to\n",
      "[nltk_data]     C:\\Users\\abuba\\AppData\\Roaming\\nltk_data...\n",
      "[nltk_data]   Unzipping tokenizers\\punkt.zip.\n"
     ]
    },
    {
     "name": "stdout",
     "output_type": "stream",
     "text": [
      "Total compound sentiment score for the book: 87.9675\n"
     ]
    }
   ],
   "source": [
    "from vaderSentiment.vaderSentiment import SentimentIntensityAnalyzer\n",
    "import nltk\n",
    "nltk.download('punkt')\n",
    "from nltk.tokenize import sent_tokenize\n",
    "\n",
    "# Initialize the analyzer\n",
    "analyzer = SentimentIntensityAnalyzer()\n",
    "\n",
    "# Assuming `book` contains the entire book text\n",
    "book_text = book\n",
    "\n",
    "# Step 1: Split the book into sentences\n",
    "sentences = sent_tokenize(book_text)\n",
    "\n",
    "# Step 2: Analyze each sentence separately\n",
    "sentiment_scores = []\n",
    "for sentence in sentences:\n",
    "    scores = analyzer.polarity_scores(sentence)\n",
    "    sentiment_scores.append(scores)\n",
    "\n",
    "# Optional: Aggregate the results\n",
    "# Example: Summing up the compound scores\n",
    "compound_scores = [score['compound'] for score in sentiment_scores]\n",
    "total_compound_score = sum(compound_scores)\n",
    "\n",
    "# Print the aggregated results\n",
    "print(f\"Total compound sentiment score for the book: {total_compound_score}\")\n"
   ]
  },
  {
   "cell_type": "code",
   "execution_count": 14,
   "id": "09633a52-9e1f-4c21-b834-9533f76cb9a8",
   "metadata": {},
   "outputs": [],
   "source": [
    "import re\n",
    "pattern = re.compile(\"Chapter [0-9]+\")\n",
    "chapters = re.split(pattern, book)"
   ]
  },
  {
   "cell_type": "code",
   "execution_count": 15,
   "id": "cc59e526-9332-473b-bad0-1fb9278ca725",
   "metadata": {},
   "outputs": [],
   "source": [
    "chapters = chapters[1:]"
   ]
  },
  {
   "cell_type": "code",
   "execution_count": 18,
   "id": "89a7510d-0024-4852-8552-3c3b76f7d8c5",
   "metadata": {},
   "outputs": [
    {
     "name": "stdout",
     "output_type": "stream",
     "text": [
      "1 {'neg': 0.057, 'neu': 0.786, 'pos': 0.157, 'compound': 1.0}\n",
      "2 {'neg': 0.115, 'neu': 0.734, 'pos': 0.151, 'compound': 0.9994}\n",
      "3 {'neg': 0.141, 'neu': 0.757, 'pos': 0.101, 'compound': -0.9999}\n",
      "4 {'neg': 0.135, 'neu': 0.731, 'pos': 0.133, 'compound': -0.9944}\n",
      "5 {'neg': 0.11, 'neu': 0.747, 'pos': 0.143, 'compound': 0.9999}\n",
      "6 {'neg': 0.117, 'neu': 0.77, 'pos': 0.113, 'compound': -0.9919}\n",
      "7 {'neg': 0.13, 'neu': 0.77, 'pos': 0.1, 'compound': -0.9999}\n",
      "8 {'neg': 0.11, 'neu': 0.795, 'pos': 0.095, 'compound': -0.9994}\n",
      "9 {'neg': 0.09, 'neu': 0.834, 'pos': 0.076, 'compound': -0.9993}\n",
      "10 {'neg': 0.079, 'neu': 0.748, 'pos': 0.173, 'compound': 1.0}\n"
     ]
    }
   ],
   "source": [
    "for nr, chapter in enumerate(chapters):\n",
    "    scores = analyzer.polarity_scores(chapter)\n",
    "    print(nr +1, scores)"
   ]
  },
  {
   "cell_type": "code",
   "execution_count": null,
   "id": "57299822-9b3c-4a5f-95ec-cadfc296786a",
   "metadata": {},
   "outputs": [],
   "source": []
  }
 ],
 "metadata": {
  "kernelspec": {
   "display_name": "Python 3 (ipykernel)",
   "language": "python",
   "name": "python3"
  },
  "language_info": {
   "codemirror_mode": {
    "name": "ipython",
    "version": 3
   },
   "file_extension": ".py",
   "mimetype": "text/x-python",
   "name": "python",
   "nbconvert_exporter": "python",
   "pygments_lexer": "ipython3",
   "version": "3.12.1"
  }
 },
 "nbformat": 4,
 "nbformat_minor": 5
}
